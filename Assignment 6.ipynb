{
 "cells": [
  {
   "cell_type": "code",
   "execution_count": null,
   "id": "36d92371",
   "metadata": {},
   "outputs": [],
   "source": [
    "1)What are escape characters, and how do you use them?"
   ]
  },
  {
   "cell_type": "code",
   "execution_count": null,
   "id": "445a168a",
   "metadata": {},
   "outputs": [],
   "source": [
    "Ans: Escape characters are special characters that are used to represent certain characters in strings or text that would otherwise be difficult or impossible to type directly.\n",
    "    \n",
    "    Some examples of escape characters include:\n",
    "\n",
    "\\n: represents a new line character\n",
    "\\t: represents a tab character\n"
   ]
  },
  {
   "cell_type": "code",
   "execution_count": 3,
   "id": "ab569883",
   "metadata": {},
   "outputs": [
    {
     "name": "stdout",
     "output_type": "stream",
     "text": [
      "This is a new line.\n",
      " This is a tab.\t\n"
     ]
    }
   ],
   "source": [
    "print(\"This is a new line.\\n This is a tab.\\t\")\n"
   ]
  },
  {
   "cell_type": "code",
   "execution_count": null,
   "id": "896ead8f",
   "metadata": {},
   "outputs": [],
   "source": [
    "2. What do the escape characters n and t stand for?"
   ]
  },
  {
   "cell_type": "code",
   "execution_count": null,
   "id": "8e754d4e",
   "metadata": {},
   "outputs": [],
   "source": [
    "Ans:  \\n: represents a new line character\n",
    "\\t: represents a tab character"
   ]
  },
  {
   "cell_type": "code",
   "execution_count": null,
   "id": "4a76238c",
   "metadata": {},
   "outputs": [],
   "source": [
    "3. What is the way to include backslash characters in a string?"
   ]
  },
  {
   "cell_type": "code",
   "execution_count": null,
   "id": "fea30c8c",
   "metadata": {},
   "outputs": [],
   "source": [
    "Ans : To include a backslash character in a string, we need to use the backslash character () as an escape character before the backslash we want to include. This tells the interpreter to treat the backslash as a literal character, rather than as the start of an escape sequence."
   ]
  },
  {
   "cell_type": "code",
   "execution_count": null,
   "id": "2d6e2afb",
   "metadata": {},
   "outputs": [],
   "source": [
    "4. The string \"Howl's Moving Castle\" is a correct value. Why isn't the single quote character in the\n",
    "word Howl's not escaped a problem?"
   ]
  },
  {
   "cell_type": "code",
   "execution_count": null,
   "id": "3a21c7fe",
   "metadata": {},
   "outputs": [],
   "source": [
    "Ans : The reason why the single quote character in the word \"Howl's\" in the string \"Howl's Moving Castle\" is not causing a problem is because the string itself is enclosed in double quotes, not single quotes."
   ]
  },
  {
   "cell_type": "code",
   "execution_count": null,
   "id": "7467bb2b",
   "metadata": {},
   "outputs": [],
   "source": [
    "5. How do you write a string of newlines if you don't want to use the n character?"
   ]
  },
  {
   "cell_type": "code",
   "execution_count": null,
   "id": "63db5f03",
   "metadata": {},
   "outputs": [],
   "source": [
    "Ans: We can use triple quote string, Python allows us to define a string using triple-quotes, which can span multiple lines. "
   ]
  },
  {
   "cell_type": "code",
   "execution_count": 5,
   "id": "543f1850",
   "metadata": {},
   "outputs": [],
   "source": [
    "newline =\"\"\" \n",
    "\n",
    "\n",
    "\"\"\""
   ]
  },
  {
   "cell_type": "code",
   "execution_count": null,
   "id": "501bb8ef",
   "metadata": {},
   "outputs": [],
   "source": [
    "6. What are the values of the given expressions?\n",
    "'Hello, world!'[1]\n",
    "'Hello, world!'[0:5]\n",
    "'Hello, world!'[:5]\n",
    "'Hello, world!'[3:]"
   ]
  },
  {
   "cell_type": "code",
   "execution_count": 9,
   "id": "782fd357",
   "metadata": {},
   "outputs": [
    {
     "data": {
      "text/plain": [
       "'e'"
      ]
     },
     "execution_count": 9,
     "metadata": {},
     "output_type": "execute_result"
    }
   ],
   "source": [
    "'Hello, world!'[1]"
   ]
  },
  {
   "cell_type": "code",
   "execution_count": 10,
   "id": "97984645",
   "metadata": {},
   "outputs": [
    {
     "data": {
      "text/plain": [
       "'Hello'"
      ]
     },
     "execution_count": 10,
     "metadata": {},
     "output_type": "execute_result"
    }
   ],
   "source": [
    "'Hello, world!'[0:5]"
   ]
  },
  {
   "cell_type": "code",
   "execution_count": 11,
   "id": "ea064377",
   "metadata": {},
   "outputs": [
    {
     "data": {
      "text/plain": [
       "'Hello'"
      ]
     },
     "execution_count": 11,
     "metadata": {},
     "output_type": "execute_result"
    }
   ],
   "source": [
    "'Hello, world!'[:5]"
   ]
  },
  {
   "cell_type": "code",
   "execution_count": 12,
   "id": "1b60f7df",
   "metadata": {},
   "outputs": [
    {
     "data": {
      "text/plain": [
       "'lo, world!'"
      ]
     },
     "execution_count": 12,
     "metadata": {},
     "output_type": "execute_result"
    }
   ],
   "source": [
    "'Hello, world!'[3:]"
   ]
  },
  {
   "cell_type": "code",
   "execution_count": null,
   "id": "7e0b8a84",
   "metadata": {},
   "outputs": [],
   "source": [
    "7. What are the values of the following expressions?\n",
    "'Hello'.upper()\n",
    "'Hello'.upper().isupper()\n",
    "'Hello'.upper().lower()"
   ]
  },
  {
   "cell_type": "code",
   "execution_count": 13,
   "id": "9f1bda35",
   "metadata": {},
   "outputs": [
    {
     "data": {
      "text/plain": [
       "'HELLO'"
      ]
     },
     "execution_count": 13,
     "metadata": {},
     "output_type": "execute_result"
    }
   ],
   "source": [
    "'Hello'.upper()"
   ]
  },
  {
   "cell_type": "code",
   "execution_count": 14,
   "id": "67b316f3",
   "metadata": {},
   "outputs": [
    {
     "data": {
      "text/plain": [
       "True"
      ]
     },
     "execution_count": 14,
     "metadata": {},
     "output_type": "execute_result"
    }
   ],
   "source": [
    "'Hello'.upper().isupper()"
   ]
  },
  {
   "cell_type": "code",
   "execution_count": 15,
   "id": "f9cae816",
   "metadata": {},
   "outputs": [
    {
     "data": {
      "text/plain": [
       "'hello'"
      ]
     },
     "execution_count": 15,
     "metadata": {},
     "output_type": "execute_result"
    }
   ],
   "source": [
    "'Hello'.upper().lower()"
   ]
  },
  {
   "cell_type": "code",
   "execution_count": null,
   "id": "99404193",
   "metadata": {},
   "outputs": [],
   "source": [
    "8. What are the values of the following expressions?\n",
    "'Remember, remember, the fifth of July.'.split()\n",
    "'-'.join('There can only one.'.split())"
   ]
  },
  {
   "cell_type": "code",
   "execution_count": 16,
   "id": "9a9e304c",
   "metadata": {},
   "outputs": [
    {
     "data": {
      "text/plain": [
       "'There-can-only-one.'"
      ]
     },
     "execution_count": 16,
     "metadata": {},
     "output_type": "execute_result"
    }
   ],
   "source": [
    "'Remember, remember, the fifth of July.'.split()\n",
    "'-'.join('There can only one.'.split())"
   ]
  },
  {
   "cell_type": "code",
   "execution_count": null,
   "id": "7387ac85",
   "metadata": {},
   "outputs": [],
   "source": [
    "9. What are the methods for right-justifying, left-justifying, and centering a string?"
   ]
  },
  {
   "cell_type": "code",
   "execution_count": 21,
   "id": "eb904b20",
   "metadata": {},
   "outputs": [
    {
     "name": "stdout",
     "output_type": "stream",
     "text": [
      "               hello\n"
     ]
    }
   ],
   "source": [
    "string = \"hello\"\n",
    "width = 20\n",
    "justified_string = string.rjust(width)\n",
    "print(justified_string)"
   ]
  },
  {
   "cell_type": "code",
   "execution_count": 24,
   "id": "ad50fe63",
   "metadata": {},
   "outputs": [
    {
     "name": "stdout",
     "output_type": "stream",
     "text": [
      "hello               \n"
     ]
    }
   ],
   "source": [
    "string = \"hello\"\n",
    "width = 20\n",
    "justified_string = string.ljust(width)\n",
    "print(justified_string)"
   ]
  },
  {
   "cell_type": "code",
   "execution_count": 25,
   "id": "4fa531a5",
   "metadata": {},
   "outputs": [
    {
     "name": "stdout",
     "output_type": "stream",
     "text": [
      "       hello        \n"
     ]
    }
   ],
   "source": [
    "string = \"hello\"\n",
    "width = 20\n",
    "justified_string = string.center(width)\n",
    "print(justified_string)"
   ]
  },
  {
   "cell_type": "code",
   "execution_count": null,
   "id": "ada6c26b",
   "metadata": {},
   "outputs": [],
   "source": [
    "10. What is the best way to remove whitespace characters from the start or end?"
   ]
  },
  {
   "cell_type": "code",
   "execution_count": null,
   "id": "a1ec71ae",
   "metadata": {},
   "outputs": [],
   "source": [
    "In Python, we can use the strip() method to remove whitespace characters from the start or end of a string. "
   ]
  },
  {
   "cell_type": "code",
   "execution_count": null,
   "id": "fe4017e4",
   "metadata": {},
   "outputs": [],
   "source": []
  },
  {
   "cell_type": "code",
   "execution_count": null,
   "id": "d0fee8d5",
   "metadata": {},
   "outputs": [],
   "source": []
  }
 ],
 "metadata": {
  "kernelspec": {
   "display_name": "Python 3 (ipykernel)",
   "language": "python",
   "name": "python3"
  },
  "language_info": {
   "codemirror_mode": {
    "name": "ipython",
    "version": 3
   },
   "file_extension": ".py",
   "mimetype": "text/x-python",
   "name": "python",
   "nbconvert_exporter": "python",
   "pygments_lexer": "ipython3",
   "version": "3.9.7"
  }
 },
 "nbformat": 4,
 "nbformat_minor": 5
}
